{
 "cells": [
  {
   "cell_type": "markdown",
   "id": "8390b571",
   "metadata": {},
   "source": [
    "Q1. What are the three measures of central tendency?"
   ]
  },
  {
   "cell_type": "markdown",
   "id": "9860ca46",
   "metadata": {},
   "source": [
    "==>\n",
    "==>\n",
    "Measures of Central Tendency:\n",
    "\n",
    "\n",
    "1)Mean:\n",
    "\n",
    "The mean is the most common measure of central tendency and is calculated by summing all the values in a dataset and dividing by the total number of values.\n",
    "Formula: Mean = (Sum of all values) / (Total number of values)\n",
    "Use: The mean provides a representative value that represents the average of the dataset. It balances the impact of extreme values, making it suitable for datasets with a normal distribution or symmetric data.\n",
    "\n",
    "2)Median:\n",
    "\n",
    "The median is the middle value in a dataset when it is arranged in ascending or descending order.\n",
    "Use: The median is robust to outliers and is useful when dealing with skewed distributions or datasets with extreme values that might heavily influence the mean.\n",
    "\n",
    "3)Mode:\n",
    "\n",
    "The mode is the value that occurs most frequently in a dataset.\n",
    "Use: The mode is useful for categorical or discrete data, and it helps identify the most common category or value in the dataset.\n"
   ]
  },
  {
   "cell_type": "code",
   "execution_count": null,
   "id": "87c4c431",
   "metadata": {},
   "outputs": [],
   "source": []
  },
  {
   "cell_type": "markdown",
   "id": "e7c85163",
   "metadata": {},
   "source": [
    "Q2. What is the difference between the mean, median, and mode? How are they used to measure the\n",
    "central tendency of a dataset?"
   ]
  },
  {
   "cell_type": "markdown",
   "id": "5277f37b",
   "metadata": {},
   "source": [
    "==>\n",
    "The mean, median, and mode are measures of central tendency used to describe the center or typical value of a dataset. However, they differ in how they are calculated and how they handle different types of data.\n",
    "\n",
    "Mean:\n",
    "\n",
    "The mean is the sum of all values in a dataset divided by the total number of values.\n",
    "It is calculated as: Mean = (Sum of all values) / (Total number of values)\n",
    "The mean takes into account every value in the dataset, making it sensitive to outliers. A single extreme value can significantly impact the mean.\n",
    "The mean is commonly used when dealing with continuous data and datasets with a symmetric distribution.\n",
    "\n",
    "\n",
    "Median:\n",
    "\n",
    "The median is the middle value in a dataset when it is arranged in ascending or descending order.\n",
    "If the dataset has an odd number of values, the median is the middle value itself. If the dataset has an even number of values, the median is the average of the two middle values.\n",
    "The median is not affected by extreme values (outliers) since it only considers the position of values, not their actual magnitudes.\n",
    "The median is often used when dealing with ordinal data or datasets with a skewed distribution.\n",
    "\n",
    "\n",
    "Mode:\n",
    "\n",
    "The mode is the value that occurs most frequently in a dataset.\n",
    "A dataset can have one mode (unimodal), two modes (bimodal), or more (multimodal).\n",
    "The mode can be used with any type of data, but it is particularly useful for categorical or discrete data.\n",
    "The mode is not affected by extreme values and can be used in cases where the mean and median might not be suitable.\n",
    "\n",
    "\n",
    "\n",
    "Comparison:\n",
    "\n",
    "The mean, median, and mode are all used to describe the center of a dataset, but they may provide different values depending on the data distribution.\n",
    "When the data is normally distributed (bell-shaped curve), the mean, median, and mode are approximately equal.\n",
    "In positively skewed data (a long tail to the right), the mode < median < mean.\n",
    "In negatively skewed data (a long tail to the left), the mean < median < mode.\n",
    "In cases of multiple modes or no clear mode, the median or mean might be preferred as measures of central tendency.\n"
   ]
  },
  {
   "cell_type": "code",
   "execution_count": null,
   "id": "6ce5dc2b",
   "metadata": {},
   "outputs": [],
   "source": []
  },
  {
   "cell_type": "markdown",
   "id": "01d86611",
   "metadata": {},
   "source": [
    "Q3. Measure the three measures of central tendency for the given height data:\n",
    "[178,177,176,177,178.2,178,175,179,180,175,178.9,176.2,177,172.5,178,176.5]"
   ]
  },
  {
   "cell_type": "markdown",
   "id": "9062e1b9",
   "metadata": {},
   "source": [
    "Height data = [178,177,176,177,178.2,178,175,179,180,175,178.9,176.2,177,172.5,178,176.5]"
   ]
  },
  {
   "cell_type": "code",
   "execution_count": 5,
   "id": "c3602c64",
   "metadata": {},
   "outputs": [
    {
     "name": "stdout",
     "output_type": "stream",
     "text": [
      "Mean: 177.01875\n",
      "Median: 177.0\n",
      "Mode: 178\n"
     ]
    }
   ],
   "source": [
    "from statistics import mean, median, mode\n",
    "\n",
    "def calculate_mean_median_mode(data):\n",
    "    data_mean = mean(data)\n",
    "    data_median = median(data)\n",
    "    data_mode = mode(data)\n",
    "    \n",
    "    return data_mean, data_median, data_mode\n",
    "\n",
    "\n",
    "height_data = [178, 177, 176, 177, 178.2, 178, 175, 179, 180, 175, 178.9, 176.2, 177, 172.5, 178, 176.5]\n",
    "\n",
    "mean_value, median_value, mode_value = calculate_mean_median_mode(height_data)\n",
    "\n",
    "print(\"Mean:\", mean_value)\n",
    "print(\"Median:\", median_value)\n",
    "print(\"Mode:\", mode_value)\n"
   ]
  },
  {
   "cell_type": "code",
   "execution_count": null,
   "id": "fb8e3171",
   "metadata": {},
   "outputs": [],
   "source": []
  },
  {
   "cell_type": "markdown",
   "id": "4c75a3c8",
   "metadata": {},
   "source": [
    "Q4. Find the standard deviation for the given data:\n",
    "[178,177,176,177,178.2,178,175,179,180,175,178.9,176.2,177,172.5,178,176.5]"
   ]
  },
  {
   "cell_type": "code",
   "execution_count": 6,
   "id": "2c678cd1",
   "metadata": {},
   "outputs": [],
   "source": [
    "height_data = [178,177,176,177,178.2,178,175,179,180,175,178.9,176.2,177,172.5,178,176.5] "
   ]
  },
  {
   "cell_type": "code",
   "execution_count": 11,
   "id": "e14f05d6",
   "metadata": {},
   "outputs": [
    {
     "name": "stdout",
     "output_type": "stream",
     "text": [
      "Standard Deviation is :  1.8472389305844188\n"
     ]
    }
   ],
   "source": [
    "import statistics \n",
    "\n",
    "def calculate_std(data):\n",
    "    data_std = statistics.stdev(data)\n",
    "    \n",
    "    return data_std\n",
    "\n",
    "height_data = [178, 177, 176, 177, 178.2, 178, 175, 179, 180, 175, 178.9, 176.2, 177, 172.5, 178, 176.5]\n",
    "\n",
    "data_std = calculate_std(height_data)\n",
    "\n",
    "print(\"Standard Deviation is : \", data_std)"
   ]
  },
  {
   "cell_type": "code",
   "execution_count": null,
   "id": "69a7f45e",
   "metadata": {},
   "outputs": [],
   "source": []
  },
  {
   "cell_type": "markdown",
   "id": "5d1358db",
   "metadata": {},
   "source": [
    "Q5. How are measures of dispersion such as range, variance, and standard deviation used to describe\n",
    "the spread of a dataset? Provide an example."
   ]
  },
  {
   "cell_type": "markdown",
   "id": "0118eae2",
   "metadata": {},
   "source": [
    "==>>\n",
    "Measures of dispersion, including range, variance, and standard deviation, are used to describe the spread or variability of a dataset"
   ]
  },
  {
   "cell_type": "markdown",
   "id": "e33dcc1b",
   "metadata": {},
   "source": [
    "1. Range:\n",
    "\n",
    "The range is the simplest measure of dispersion and is calculated as the difference between the maximum and minimum values in the dataset.\n",
    "A larger range indicates a wider spread, while a smaller range indicates a more compact spread of values.\n",
    "Example:\n",
    "Consider the following dataset representing the number of hours students spent studying for an exam:\n",
    "\n",
    "\n",
    "[3, 5, 7, 4, 8, 6, 9, 2, 5, 4]\n",
    "\n",
    "Range = Maximum value - Minimum value = 9 - 2 = 7\n",
    "The range in this example is 7, which means the study hours vary from a minimum of 2 to a maximum of 9."
   ]
  },
  {
   "cell_type": "markdown",
   "id": "eb19dc33",
   "metadata": {},
   "source": [
    "2. Variance:\n",
    "\n",
    "Variance measures the average squared deviation of each data point from the mean.\n",
    "It provides a more comprehensive measure of the spread of data compared to the range because it considers all values in the dataset."
   ]
  },
  {
   "cell_type": "code",
   "execution_count": null,
   "id": "06092697",
   "metadata": {},
   "outputs": [],
   "source": []
  },
  {
   "cell_type": "code",
   "execution_count": null,
   "id": "1df1514c",
   "metadata": {},
   "outputs": [],
   "source": [
    "Q6. What is a Venn diagram?"
   ]
  },
  {
   "cell_type": "markdown",
   "id": "936c9469",
   "metadata": {},
   "source": [
    "==>\n",
    "A Venn diagram is a visual representation used to show the relationships between different sets or groups of items. It consists of overlapping circles (or other shapes) that represent the sets, with each circle representing a unique category. The areas of overlap between the circles show the elements that are common to the corresponding sets.\n",
    "\n",
    "\n",
    "The primary purpose of a Venn diagram is to illustrate the similarities and differences between various sets, helping to visualize the relationships and the extent of their intersection. Venn diagrams are often used in logic, set theory, probability, and statistics to depict data or concepts with overlapping characteristic."
   ]
  },
  {
   "cell_type": "code",
   "execution_count": null,
   "id": "048517cd",
   "metadata": {},
   "outputs": [],
   "source": []
  },
  {
   "cell_type": "code",
   "execution_count": null,
   "id": "5483ceb8",
   "metadata": {},
   "outputs": [],
   "source": [
    "Q7. For the two given sets A = (2,3,4,5,6,7) & B = (0,2,6,8,10). Find:\n",
    "(i) A B\n",
    "(ii) A ⋃ B"
   ]
  },
  {
   "cell_type": "markdown",
   "id": "3ef3db10",
   "metadata": {},
   "source": [
    "==>\n",
    "\n",
    "(i) A ∩ B = {2, 6}\n",
    "(ii) A ∪ B = {0, 2, 3, 4, 5, 6, 7, 8, 10}"
   ]
  },
  {
   "cell_type": "code",
   "execution_count": null,
   "id": "b77a6d88",
   "metadata": {},
   "outputs": [],
   "source": []
  },
  {
   "cell_type": "code",
   "execution_count": null,
   "id": "d243c9fe",
   "metadata": {},
   "outputs": [],
   "source": [
    "Q8. What do you understand about skewness in data?"
   ]
  },
  {
   "cell_type": "markdown",
   "id": "c4f0898d",
   "metadata": {},
   "source": [
    "==>\n",
    "Skewness in data is a statistical measure that describes the asymmetry or lack of symmetry in the distribution of a dataset. It provides information about the degree to which the data deviates from a symmetric bell-shaped curve (normal distribution). Skewness is an essential concept in data analysis and is used to understand the shape and characteristics of a dataset."
   ]
  },
  {
   "cell_type": "code",
   "execution_count": null,
   "id": "21ade5d2",
   "metadata": {},
   "outputs": [],
   "source": []
  },
  {
   "cell_type": "code",
   "execution_count": null,
   "id": "01942c19",
   "metadata": {},
   "outputs": [],
   "source": [
    "Q9. If a data is right skewed then what will be the position of median with respect to mean?"
   ]
  },
  {
   "cell_type": "markdown",
   "id": "adf149b4",
   "metadata": {},
   "source": [
    "==>>\n",
    "If a data is right-skewed, the position of the median with respect to the mean will be to the left of the mean. In right-skewed data, the tail of the distribution is stretched out towards larger values, which pulls the mean towards higher values. As a result, the mean will be greater than the median.\n",
    "\n",
    "To illustrate this, consider the following example:\n",
    "\n",
    "Suppose we have a dataset representing the incomes of individuals in a population:\n",
    "\n",
    "[20,000, 25,000, 30,000, 35,000, 200,000]\n",
    "\n",
    "In this dataset, the majority of incomes are clustered at lower values (20,000 to 35,000), while there is one extreme outlier at 200,000. This outlier causes the data to be right-skewed.\n",
    "\n",
    "Calculating the mean and median for this dataset:\n",
    "\n",
    "Mean = (20,000 + 25,000 + 30,000 + 35,000 + 200,000) / 5 = 62,000\n",
    "\n",
    "Median = 30,000\n",
    "\n",
    "As you can see, the mean (62,000) is greater than the median (30,000). The median is positioned to the left of the mean in right-skewed data, indicating that it is closer to the lower values of the dataset, while the mean is influenced by the presence of the extreme value and is thus pulled towards higher values."
   ]
  },
  {
   "cell_type": "code",
   "execution_count": null,
   "id": "d59b5c59",
   "metadata": {},
   "outputs": [],
   "source": []
  },
  {
   "cell_type": "markdown",
   "id": "205d29d7",
   "metadata": {},
   "source": [
    "Q10. Explain the difference between covariance and correlation. How are these measures used in\n",
    "statistical analysis?"
   ]
  },
  {
   "cell_type": "markdown",
   "id": "329f8612",
   "metadata": {},
   "source": [
    "==>\n",
    "\n",
    "Difference between Covariance and Correlation:\n",
    "\n",
    "**Covariance:**\n",
    " Covariance measures the degree to which two variables change together.\n",
    " It indicates the direction of the linear relationship between two variables (whether they tend to increase or decrease together) and the strength of their association.\n",
    " The formula for covariance between two variables X and Y is:\n",
    "  \n",
    "  Cov(X, Y) = Σ[(X_i - X̄) * (Y_i - Ȳ)] / n\n",
    " where X_i and Y_i are individual data points, X̄ and Ȳ are the means of X and Y, and n is the total number of data points.\n",
    "The value of covariance can be positive, negative, or zero:\n",
    " Positive covariance: Indicates that when one variable increases, the other tends to increase as well. Negative covariance: Indicates that when one variable increases, the other tends to decrease, and vice versa.\n",
    "Zero covariance: Indicates no linear relationship between the variables.\n",
    "\n",
    "**Correlation:**\n",
    "Correlation is a standardized measure of the linear relationship between two variables.\n",
    "\n",
    "It provides a more interpretable comparison of the strength and direction of the association between two variables, as it scales the covariance to a range between -1 and 1.\n",
    "The formula for correlation between two variables X and Y is:\n",
    " \n",
    "  Corr(X, Y) = Cov(X, Y) / (σ_X * σ_Y)\n",
    "  \n",
    "  where Cov(X, Y) is the covariance between X and Y, and σ_X and σ_Y are the standard deviations of X and Y, respectively.\n",
    "  The correlation coefficient ranges from -1 (perfect negative correlation) to 1 (perfect positive correlation), with 0 indicating no linear correlation.\n",
    "Correlation is dimensionless and allows for comparisons between different pairs of variables.\n",
    "\n",
    "**Usage in Statistical Analysis:**\n",
    "    \n",
    "    \n",
    " **Covariance:** Covariance is used to assess the direction and strength of the relationship between two variables. It is commonly used in finance, portfolio management, and data analysis to understand how changes in one variable affect another. However, the covariance value is not easily interpretable due to its sensitivity to the scale of the variables.\n",
    "\n",
    "-**Correlation:** \n",
    "    \n",
    "    \n",
    "   Correlation is widely used in statistical analysis because it standardizes the covariance and provides a more meaningful interpretation of the relationship between two variables. It is a fundamental tool in data science, machine learning, and inferential statistics. Correlation helps in identifying the degree of linear association between variables and can be used to detect multicollinearity in regression analysis.\n"
   ]
  },
  {
   "cell_type": "code",
   "execution_count": null,
   "id": "2e96ec7b",
   "metadata": {},
   "outputs": [],
   "source": []
  },
  {
   "cell_type": "code",
   "execution_count": null,
   "id": "34e05261",
   "metadata": {},
   "outputs": [],
   "source": [
    "Q11. What is the formula for calculating the sample mean? Provide an example calculation for a\n",
    "dataset."
   ]
  },
  {
   "cell_type": "markdown",
   "id": "19921a4f",
   "metadata": {},
   "source": [
    "==>\n",
    "Sample Mean Formula:\n",
    "Sample Mean (x̄) = (Sum of all values) / (Total number of data points)\n",
    "\n",
    "Example Calculation:\n",
    "Let's consider a dataset of test scores for a class:\n",
    "\n",
    "Test Scores: [85, 78, 92, 76, 88]\n",
    "\n",
    "To find the sample mean, follow these steps:\n",
    "\n",
    "Add up all the values in the dataset:\n",
    "Sum = 85 + 78 + 92 + 76 + 88 = 419\n",
    "\n",
    "Count the total number of data points in the sample:\n",
    "Total number of data points (n) = 5\n",
    "\n",
    "Now, use the sample mean formula:\n",
    "Sample Mean (x̄) = Sum / n = 419 / 5 = 83.8"
   ]
  },
  {
   "cell_type": "code",
   "execution_count": null,
   "id": "dc7543aa",
   "metadata": {},
   "outputs": [],
   "source": []
  },
  {
   "cell_type": "markdown",
   "id": "cd43412e",
   "metadata": {},
   "source": [
    "Q12. For a normal distribution data what is the relationship between its measure of central tendency?"
   ]
  },
  {
   "cell_type": "markdown",
   "id": "e9b493bf",
   "metadata": {},
   "source": [
    "==>\n",
    "For a normal distribution, the three measures of central tendency (mean, median, and mode) are all equal and located at the center of the distribution. This property is one of the defining characteristics of a normal distribution.\n",
    "\n",
    "Mean: The mean of a normal distribution is located exactly at the center of the distribution, and it is equal to the value of the peak or highest point of the bell-shaped curve.\n",
    "\n",
    "Median: The median of a normal distribution is also located at the center of the distribution, exactly where the peak of the curve is. Since the normal distribution is symmetric, the median is equal to the mean.\n",
    "\n",
    "Mode: The mode of a normal distribution is the value with the highest frequency, which is the same as the peak of the curve. In a normal distribution, there is only one peak, so the mode is also equal to the mean and median."
   ]
  },
  {
   "cell_type": "code",
   "execution_count": null,
   "id": "b8a0f60c",
   "metadata": {},
   "outputs": [],
   "source": []
  },
  {
   "cell_type": "markdown",
   "id": "991d13b0",
   "metadata": {},
   "source": [
    "Q13. How is covariance different from correlation?"
   ]
  },
  {
   "cell_type": "markdown",
   "id": "57eda3a7",
   "metadata": {},
   "source": [
    "==>>\n",
    "Covariance and correlation are both measures used to describe the relationship between two variables in a dataset.\n",
    "\n",
    "1. Scale:\n",
    "\n",
    "Covariance: Covariance is not scaled and can take any positive or negative value, depending on the direction and strength of the relationship between the variables. Its magnitude is determined by the units of the variables, which can make interpretation challenging.\n",
    "Correlation: Correlation is standardized and always ranges between -1 and 1. A correlation coefficient of +1 indicates a perfect positive linear relationship, 0 indicates no linear relationship, and -1 indicates a perfect negative linear relationship.\n",
    "    \n",
    "2. Interpretation:\n",
    "\n",
    "Covariance: The magnitude of covariance provides information about the strength of the relationship between two variables. A positive covariance indicates that the variables tend to increase or decrease together, while a negative covariance indicates that one variable tends to increase while the other decreases. However, the actual value does not have an intuitive interpretation due to the lack of a standardized scale.\n",
    "Correlation: Correlation, being standardized, has a more intuitive interpretation. A correlation coefficient close to +1 indicates a strong positive linear relationship, close to -1 indicates a strong negative linear relationship, and close to 0 indicates a weak or no linear relationship.\n",
    "    \n",
    "\n",
    "3. Unit Independence:\n",
    "\n",
    "Covariance: Covariance is affected by the units of the variables. If the units of measurement change, the magnitude of covariance will also change, making it difficult to compare covariances across different datasets.\n",
    "Correlation: Correlation is unitless and is not affected by the scale of the variables. This allows for easy comparison of correlations between different datasets, even if the variables are measured in different units.\n",
    " \n",
    "\n",
    "4. Boundaries:\n",
    "\n",
    "Covariance: Covariance has no fixed boundaries, which means its value can vary widely and is not limited to a specific range.\n",
    "Correlation: Correlation is bounded between -1 and 1, providing a clear and consistent range for the strength and direction of the linear relationship.\n",
    "\n"
   ]
  },
  {
   "cell_type": "code",
   "execution_count": null,
   "id": "ec410511",
   "metadata": {},
   "outputs": [],
   "source": []
  },
  {
   "cell_type": "markdown",
   "id": "0f7b2570",
   "metadata": {},
   "source": [
    "Q14. How do outliers affect measures of central tendency and dispersion? Provide an example."
   ]
  },
  {
   "cell_type": "markdown",
   "id": "f2282ffd",
   "metadata": {},
   "source": [
    "==>\n",
    "\n",
    "Outliers can significantly impact measures of central tendency and dispersion in a dataset. An outlier is an extreme value that deviates significantly from the rest of the data points. Outliers can be both high (positive outliers) and low (negative outliers) relative to the majority of the data. Let's explore how outliers affect different measures:\n",
    "\n",
    "1. Measures of Central Tendency (Mean, Median, and Mode):\n",
    "\n",
    "Mean: The mean is sensitive to outliers because it takes into account every value in the dataset. A single extreme value can pull the mean towards its direction, affecting its value significantly. In the presence of outliers, the mean may not be representative of the typical value of the dataset.\n",
    "Median: The median is relatively resistant to outliers. Since the median represents the middle value in an ordered dataset, it is less affected by extreme values. Outliers do not have a direct impact on the median as long as they do not change the order of the data significantly.\n",
    "Mode: The mode is not influenced by outliers. It represents the most frequently occurring value(s) in the dataset, which remains unchanged by the presence of outliers.\n",
    "Example - Measures of Central Tendency:\n",
    "Consider the following dataset representing the ages of students in a class:\n",
    "\n",
    "[15, 16, 17, 18, 19, 20, 21, 22, 23, 100]\n",
    "\n",
    "Mean: (15 + 16 + 17 + 18 + 19 + 20 + 21 + 22 + 23 + 100) / 10 ≈ 31.1\n",
    "Median: 20\n",
    "Mode: There is no mode as all values occur only once.\n",
    "In this dataset, the outlier (100) significantly affects the mean, pulling it towards the higher end (31.1), while the median (20) remains unchanged and represents the central value of the majority of the data.\n",
    "\n",
    "2. Measures of Dispersion (Range, Variance, and Standard Deviation):\n",
    "\n",
    "Range: The range is sensitive to outliers because it depends only on the maximum and minimum values in the dataset. Outliers can significantly widen the range and make it less representative of the spread of the data.\n",
    "Variance and Standard Deviation: Both variance and standard deviation are influenced by outliers because they depend on the squared deviations of individual data points from the mean. Outliers can increase the spread of data around the mean and lead to larger values for variance and standard deviation.\n",
    "Example - Measures of Dispersion:\n",
    "Let's use the same dataset as before:\n",
    "\n",
    "[15, 16, 17, 18, 19, 20, 21, 22, 23, 100]\n",
    "\n",
    "Range: 100 - 15 = 85\n",
    "Variance: ≈ 428.89\n",
    "Standard Deviation: ≈ 20.71\n",
    "The presence of the outlier (100) in the dataset significantly increases the range, variance, and standard deviation, making these measures less representative of the majority of the data points."
   ]
  },
  {
   "cell_type": "code",
   "execution_count": null,
   "id": "3cb7a79e",
   "metadata": {},
   "outputs": [],
   "source": []
  }
 ],
 "metadata": {
  "kernelspec": {
   "display_name": "Python 3 (ipykernel)",
   "language": "python",
   "name": "python3"
  },
  "language_info": {
   "codemirror_mode": {
    "name": "ipython",
    "version": 3
   },
   "file_extension": ".py",
   "mimetype": "text/x-python",
   "name": "python",
   "nbconvert_exporter": "python",
   "pygments_lexer": "ipython3",
   "version": "3.10.9"
  }
 },
 "nbformat": 4,
 "nbformat_minor": 5
}
